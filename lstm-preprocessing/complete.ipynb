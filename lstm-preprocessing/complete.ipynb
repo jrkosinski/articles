{
 "cells": [
  {
   "cell_type": "code",
   "execution_count": 65,
   "id": "fe9dadc1-166a-4ca9-86d5-74f990785113",
   "metadata": {
    "tags": []
   },
   "outputs": [],
   "source": [
    "import pandas as pd \n",
    "import numpy as np\n",
    "import keras\n",
    "import math \n",
    "import random \n",
    "\n",
    "from matplotlib import pyplot as plt\n",
    "from sklearn.preprocessing import MinMaxScaler\n",
    "\n",
    "from lib.Trend import TrendData, extract_trend"
   ]
  },
  {
   "cell_type": "code",
   "execution_count": 66,
   "id": "5810d31b-c3b7-49a4-9a68-eeb743ccc9e2",
   "metadata": {
    "tags": []
   },
   "outputs": [],
   "source": [
    "def scale_col_values(\n",
    "    df: pd.DataFrame, \n",
    "    col_name:str, \n",
    "    min_value:float=0, \n",
    "    max_value:float=1\n",
    "): \n",
    "    values = df[col_name].values.reshape(-1, 1)\n",
    "    scaler = MinMaxScaler(feature_range=(min_value, max_value))\n",
    "    scaled_values = scaler.fit_transform(values)\n",
    "    df[col_name] = scaled_values.transpose()[0]\n",
    "    return df"
   ]
  },
  {
   "cell_type": "code",
   "execution_count": 67,
   "id": "da67053f-38b5-4c29-ab2e-6bce77788706",
   "metadata": {
    "tags": []
   },
   "outputs": [],
   "source": [
    "def squash_col_outliers(\n",
    "    df: pd.DataFrame, \n",
    "    col_name: str, \n",
    "    min_quantile: float =0.01, \n",
    "    max_quantile:float =0.99\n",
    "): \n",
    "    q_lo = df[col_name].quantile(min_quantile)\n",
    "    q_hi  = df[col_name].quantile(max_quantile)\n",
    "    \n",
    "    df.loc[df[col_name] >= q_hi, col_name] = q_hi\n",
    "    df.loc[df[col_name] <= q_lo, col_name] = q_lo\n",
    "    return df"
   ]
  },
  {
   "cell_type": "code",
   "execution_count": 68,
   "id": "5c923012-e067-43ec-8c9d-3cdab64dcc33",
   "metadata": {
    "tags": []
   },
   "outputs": [],
   "source": [
    "# extract y column (the col to be predicted)\n",
    "# df: the DataFrame\n",
    "# col_name: the name of the column to be predicted \n",
    "# ntimesteps: number of timesteps\n",
    "#\n",
    "def extract_y(df: pd.DataFrame, col_name: str, ntimesteps: int): \n",
    "    shifted = df.shift(-1)\n",
    "    shifted = shifted.head(-2)\n",
    "    shifted = shifted.tail(-(ntimesteps-1))\n",
    "    return shifted[col_name].values\n"
   ]
  },
  {
   "cell_type": "code",
   "execution_count": 69,
   "id": "29a15a30-1534-4b6a-9ee4-4cf4cb52c423",
   "metadata": {
    "tags": []
   },
   "outputs": [],
   "source": [
    "# extract X with the given number of timesteps\n",
    "# df: the DataFrame\n",
    "# ntimesteps: number of timesteps\n",
    "#\n",
    "def extract_X(df: pd.DataFrame, ntimesteps: int): \n",
    "    features = len(df.columns)\n",
    "    X = list()\n",
    "    \n",
    "    #offset for timesteps\n",
    "    offsets = list()\n",
    "    for i in range (ntimesteps, 0, -1): \n",
    "        offsets.append(df.shift(i))\n",
    "        \n",
    "    #combine timestep columns into rows \n",
    "    combined = pd.concat(offsets, axis=1)\n",
    "    combined = combined.tail(-ntimesteps) \n",
    "    combined.drop(combined.tail(1).index, inplace=True)\n",
    "    \n",
    "    #reshape each row (timesteps, features)\n",
    "    for i in range(len(combined)): \n",
    "        row = combined.iloc[i].to_numpy()\n",
    "        xrow = list()\n",
    "        for n in range(ntimesteps): \n",
    "            xrow.append(row[n*features:(n*features)+features])\n",
    "        X.append(xrow)\n",
    "    \n",
    "    #return as numpy array\n",
    "    return np.array(X)"
   ]
  },
  {
   "cell_type": "code",
   "execution_count": 70,
   "id": "ffca6a30-c24c-4f5b-ae20-84865a9cd64a",
   "metadata": {
    "tags": []
   },
   "outputs": [],
   "source": [
    "class DataSet:\n",
    "    def __init__(self, X, y): \n",
    "        if X.ndim != 3: \n",
    "            raise Exception(\"Expected a 3-dimensional array for X\")\n",
    "        if y.ndim != 1: \n",
    "            raise Exception(\"Expected a 1-dimensional array for y\")\n",
    "        if len(X) != len(y): \n",
    "            raise Exception(\"Length of X and y must be the same\")\n",
    "        \n",
    "        self.X = X\n",
    "        self.y = y\n",
    "        \n",
    "    def split(self, pct): \n",
    "        count = int(self.size * pct)\n",
    "        new_dataset = DataSet(self.X[:count], self.y[:count])\n",
    "        self.X = self.X[:-count]\n",
    "        self.y = self.y[:-count]\n",
    "        return new_dataset\n",
    "        \n",
    "    @property\n",
    "    def size(self): \n",
    "        return len(self.X)"
   ]
  },
  {
   "cell_type": "code",
   "execution_count": 71,
   "id": "0982a7c6-5484-4cb8-a097-aef85ec241ce",
   "metadata": {
    "tags": []
   },
   "outputs": [],
   "source": [
    "def shape_dataset(df, ntimesteps, y_col_name): \n",
    "    X = extract_X(df, ntimesteps)\n",
    "    y = extract_y(df, 'Change', ntimesteps)\n",
    "    return DataSet(X, y)"
   ]
  },
  {
   "cell_type": "code",
   "execution_count": null,
   "id": "779396f6-4ec1-4fa0-974e-fdaaee52b3c9",
   "metadata": {},
   "outputs": [],
   "source": [
    "# begin "
   ]
  },
  {
   "cell_type": "code",
   "execution_count": 72,
   "id": "83a354ef-7d4e-4be3-8893-1454ea5703b7",
   "metadata": {
    "tags": []
   },
   "outputs": [],
   "source": [
    "#read in the data \n",
    "df = pd.read_csv(\"data/prices-d.csv\", index_col=0)"
   ]
  },
  {
   "cell_type": "code",
   "execution_count": 73,
   "id": "5344af3e-b3e7-4afa-9abf-1e2e52399ab2",
   "metadata": {
    "tags": []
   },
   "outputs": [],
   "source": [
    "# extract range\n",
    "df[\"Range\"] = (df[\"High\"] - df[\"Low\"]) / df[\"Open\"]"
   ]
  },
  {
   "cell_type": "code",
   "execution_count": 74,
   "id": "6bf17c22-a1e2-4b2d-8c55-54961a8f91d0",
   "metadata": {
    "tags": []
   },
   "outputs": [],
   "source": [
    "# detrend (capture daily change %)\n",
    "df['Change'] = df[\"Adj Close\"].pct_change()\n",
    "df = df. tail(-1) "
   ]
  },
  {
   "cell_type": "code",
   "execution_count": 75,
   "id": "40cd5cd2-95aa-4246-bc50-beb53a1bfd21",
   "metadata": {
    "tags": []
   },
   "outputs": [
    {
     "data": {
      "text/html": [
       "<div>\n",
       "<style scoped>\n",
       "    .dataframe tbody tr th:only-of-type {\n",
       "        vertical-align: middle;\n",
       "    }\n",
       "\n",
       "    .dataframe tbody tr th {\n",
       "        vertical-align: top;\n",
       "    }\n",
       "\n",
       "    .dataframe thead th {\n",
       "        text-align: right;\n",
       "    }\n",
       "</style>\n",
       "<table border=\"1\" class=\"dataframe\">\n",
       "  <thead>\n",
       "    <tr style=\"text-align: right;\">\n",
       "      <th></th>\n",
       "      <th>Adj Close</th>\n",
       "      <th>Range</th>\n",
       "      <th>Change</th>\n",
       "    </tr>\n",
       "  </thead>\n",
       "  <tbody>\n",
       "    <tr>\n",
       "      <th>0</th>\n",
       "      <td>1.588667</td>\n",
       "      <td>0.276076</td>\n",
       "      <td>-0.002512</td>\n",
       "    </tr>\n",
       "    <tr>\n",
       "      <th>1</th>\n",
       "      <td>1.464000</td>\n",
       "      <td>0.226000</td>\n",
       "      <td>-0.078473</td>\n",
       "    </tr>\n",
       "    <tr>\n",
       "      <th>2</th>\n",
       "      <td>1.280000</td>\n",
       "      <td>0.190870</td>\n",
       "      <td>-0.125683</td>\n",
       "    </tr>\n",
       "    <tr>\n",
       "      <th>3</th>\n",
       "      <td>1.074000</td>\n",
       "      <td>0.208500</td>\n",
       "      <td>-0.160937</td>\n",
       "    </tr>\n",
       "    <tr>\n",
       "      <th>4</th>\n",
       "      <td>1.053333</td>\n",
       "      <td>0.100610</td>\n",
       "      <td>-0.019243</td>\n",
       "    </tr>\n",
       "  </tbody>\n",
       "</table>\n",
       "</div>"
      ],
      "text/plain": [
       "   Adj Close     Range    Change\n",
       "0   1.588667  0.276076 -0.002512\n",
       "1   1.464000  0.226000 -0.078473\n",
       "2   1.280000  0.190870 -0.125683\n",
       "3   1.074000  0.208500 -0.160937\n",
       "4   1.053333  0.100610 -0.019243"
      ]
     },
     "execution_count": 75,
     "metadata": {},
     "output_type": "execute_result"
    }
   ],
   "source": [
    "# remove extra columns\n",
    "df.drop(['Open','High','Low','Close','Volume'], axis='columns', inplace=True)\n",
    "df = pd.DataFrame(df.values, columns=['Adj Close', 'Range','Change'])\n",
    "df.head()"
   ]
  },
  {
   "cell_type": "code",
   "execution_count": 76,
   "id": "38183420-9b69-46e1-957e-177ef98f1407",
   "metadata": {
    "tags": []
   },
   "outputs": [],
   "source": [
    "# remove outliers \n",
    "df = squash_col_outliers(df, \"Change\")\n",
    "df = squash_col_outliers(df, \"Range\", min_quantile=0.0, max_quantile=0.97)"
   ]
  },
  {
   "cell_type": "code",
   "execution_count": 77,
   "id": "80bbe7e4-8787-49ef-ace9-0259f581680f",
   "metadata": {
    "tags": []
   },
   "outputs": [],
   "source": [
    "# scale the data \n",
    "df = scale_col_values(df, \"Change\")\n",
    "df = scale_col_values(df, \"Range\")"
   ]
  },
  {
   "cell_type": "code",
   "execution_count": 78,
   "id": "f1e26eda-7ca5-40fb-95b6-7a408d792ea0",
   "metadata": {
    "tags": []
   },
   "outputs": [
    {
     "data": {
      "text/html": [
       "<div>\n",
       "<style scoped>\n",
       "    .dataframe tbody tr th:only-of-type {\n",
       "        vertical-align: middle;\n",
       "    }\n",
       "\n",
       "    .dataframe tbody tr th {\n",
       "        vertical-align: top;\n",
       "    }\n",
       "\n",
       "    .dataframe thead th {\n",
       "        text-align: right;\n",
       "    }\n",
       "</style>\n",
       "<table border=\"1\" class=\"dataframe\">\n",
       "  <thead>\n",
       "    <tr style=\"text-align: right;\">\n",
       "      <th></th>\n",
       "      <th>Range</th>\n",
       "      <th>Change</th>\n",
       "      <th>Trend</th>\n",
       "    </tr>\n",
       "  </thead>\n",
       "  <tbody>\n",
       "    <tr>\n",
       "      <th>0</th>\n",
       "      <td>1.000000</td>\n",
       "      <td>0.437608</td>\n",
       "      <td>0.0</td>\n",
       "    </tr>\n",
       "    <tr>\n",
       "      <th>1</th>\n",
       "      <td>1.000000</td>\n",
       "      <td>0.057881</td>\n",
       "      <td>0.5</td>\n",
       "    </tr>\n",
       "    <tr>\n",
       "      <th>2</th>\n",
       "      <td>1.000000</td>\n",
       "      <td>0.000000</td>\n",
       "      <td>0.5</td>\n",
       "    </tr>\n",
       "    <tr>\n",
       "      <th>3</th>\n",
       "      <td>1.000000</td>\n",
       "      <td>0.000000</td>\n",
       "      <td>0.5</td>\n",
       "    </tr>\n",
       "    <tr>\n",
       "      <th>4</th>\n",
       "      <td>0.989125</td>\n",
       "      <td>0.353968</td>\n",
       "      <td>1.0</td>\n",
       "    </tr>\n",
       "  </tbody>\n",
       "</table>\n",
       "</div>"
      ],
      "text/plain": [
       "      Range    Change  Trend\n",
       "0  1.000000  0.437608    0.0\n",
       "1  1.000000  0.057881    0.5\n",
       "2  1.000000  0.000000    0.5\n",
       "3  1.000000  0.000000    0.5\n",
       "4  0.989125  0.353968    1.0"
      ]
     },
     "execution_count": 78,
     "metadata": {},
     "output_type": "execute_result"
    }
   ],
   "source": [
    "# add the trend data \n",
    "trend = extract_trend(df['Adj Close'], 100)\n",
    "df['Trend'] = trend.as_boolean(df['Adj Close'][0])\n",
    "\n",
    "# remove Adj Close \n",
    "df.pop(\"Adj Close\")\n",
    "df.head()"
   ]
  },
  {
   "cell_type": "code",
   "execution_count": 89,
   "id": "fc6c6542-3e0f-4b10-9cd8-0ba93e490612",
   "metadata": {
    "tags": []
   },
   "outputs": [],
   "source": [
    "# shape for input \n",
    "train = shape_dataset(df, 10, 'Change')"
   ]
  },
  {
   "cell_type": "code",
   "execution_count": 90,
   "id": "772838f9-625e-47db-b0aa-ca841885da4f",
   "metadata": {
    "tags": []
   },
   "outputs": [
    {
     "name": "stdout",
     "output_type": "stream",
     "text": [
      "2240\n",
      "672\n",
      "288\n"
     ]
    }
   ],
   "source": [
    "# split into training, eval, and testing sets\n",
    "val = train.split(0.3)\n",
    "test = val.split(0.3)\n",
    "print(train.size)\n",
    "print(val.size)\n",
    "print(test.size)"
   ]
  },
  {
   "cell_type": "code",
   "execution_count": 91,
   "id": "e998650d-7e89-4438-bfa5-52d4f062ec00",
   "metadata": {
    "tags": []
   },
   "outputs": [
    {
     "name": "stdout",
     "output_type": "stream",
     "text": [
      "3211\n"
     ]
    }
   ],
   "source": []
  },
  {
   "cell_type": "code",
   "execution_count": 17,
   "id": "2402e30e-3194-4d0a-b005-111ee3775baf",
   "metadata": {
    "tags": []
   },
   "outputs": [],
   "source": []
  },
  {
   "cell_type": "code",
   "execution_count": null,
   "id": "f59bf2e7-a993-4350-bdd5-77b64ca2644d",
   "metadata": {},
   "outputs": [],
   "source": []
  }
 ],
 "metadata": {
  "kernelspec": {
   "display_name": "Python 3 (ipykernel)",
   "language": "python",
   "name": "python3"
  },
  "language_info": {
   "codemirror_mode": {
    "name": "ipython",
    "version": 3
   },
   "file_extension": ".py",
   "mimetype": "text/x-python",
   "name": "python",
   "nbconvert_exporter": "python",
   "pygments_lexer": "ipython3",
   "version": "3.8.10"
  }
 },
 "nbformat": 4,
 "nbformat_minor": 5
}
