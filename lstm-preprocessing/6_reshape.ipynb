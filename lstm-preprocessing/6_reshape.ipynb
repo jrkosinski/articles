{
 "cells": [
  {
   "cell_type": "code",
   "execution_count": 71,
   "id": "c3800cf3-7d7a-4a51-a37a-15b7e802a9fe",
   "metadata": {
    "tags": []
   },
   "outputs": [],
   "source": [
    "import pandas as pd \n",
    "import numpy as np\n",
    "import keras\n",
    "import math \n",
    "import random \n",
    "\n",
    "from matplotlib import pyplot as plt\n",
    "from sklearn.preprocessing import MinMaxScaler\n",
    "\n",
    "from lib.Trend import TrendData, extract_trend"
   ]
  },
  {
   "cell_type": "code",
   "execution_count": null,
   "id": "4dedee0d-0373-4369-8dfd-05aae514adf5",
   "metadata": {
    "tags": []
   },
   "outputs": [],
   "source": []
  },
  {
   "cell_type": "code",
   "execution_count": 72,
   "id": "0ef7a9b9-5423-4638-8e29-0168aa2ff41a",
   "metadata": {
    "tags": []
   },
   "outputs": [
    {
     "data": {
      "text/html": [
       "<div>\n",
       "<style scoped>\n",
       "    .dataframe tbody tr th:only-of-type {\n",
       "        vertical-align: middle;\n",
       "    }\n",
       "\n",
       "    .dataframe tbody tr th {\n",
       "        vertical-align: top;\n",
       "    }\n",
       "\n",
       "    .dataframe thead th {\n",
       "        text-align: right;\n",
       "    }\n",
       "</style>\n",
       "<table border=\"1\" class=\"dataframe\">\n",
       "  <thead>\n",
       "    <tr style=\"text-align: right;\">\n",
       "      <th></th>\n",
       "      <th>Range</th>\n",
       "      <th>Change</th>\n",
       "      <th>Trend</th>\n",
       "    </tr>\n",
       "  </thead>\n",
       "  <tbody>\n",
       "    <tr>\n",
       "      <th>0</th>\n",
       "      <td>1.000000</td>\n",
       "      <td>0.437608</td>\n",
       "      <td>0.0</td>\n",
       "    </tr>\n",
       "    <tr>\n",
       "      <th>1</th>\n",
       "      <td>1.000000</td>\n",
       "      <td>0.057881</td>\n",
       "      <td>0.5</td>\n",
       "    </tr>\n",
       "    <tr>\n",
       "      <th>2</th>\n",
       "      <td>1.000000</td>\n",
       "      <td>0.000000</td>\n",
       "      <td>0.5</td>\n",
       "    </tr>\n",
       "    <tr>\n",
       "      <th>3</th>\n",
       "      <td>1.000000</td>\n",
       "      <td>0.000000</td>\n",
       "      <td>0.5</td>\n",
       "    </tr>\n",
       "    <tr>\n",
       "      <th>4</th>\n",
       "      <td>0.989125</td>\n",
       "      <td>0.353968</td>\n",
       "      <td>1.0</td>\n",
       "    </tr>\n",
       "  </tbody>\n",
       "</table>\n",
       "</div>"
      ],
      "text/plain": [
       "      Range    Change  Trend\n",
       "0  1.000000  0.437608    0.0\n",
       "1  1.000000  0.057881    0.5\n",
       "2  1.000000  0.000000    0.5\n",
       "3  1.000000  0.000000    0.5\n",
       "4  0.989125  0.353968    1.0"
      ]
     },
     "execution_count": 72,
     "metadata": {},
     "output_type": "execute_result"
    }
   ],
   "source": [
    "# PREPROCESSING\n",
    "def scale_col_values(\n",
    "    df: pd.DataFrame, \n",
    "    col_name:str, \n",
    "    min_value:float=0, \n",
    "    max_value:float=1\n",
    "): \n",
    "    values = df[col_name].values.reshape(-1, 1)\n",
    "    scaler = MinMaxScaler(feature_range=(min_value, max_value))\n",
    "    scaled_values = scaler.fit_transform(values)\n",
    "    df[col_name] = scaled_values.transpose()[0]\n",
    "    return df\n",
    "\n",
    "def squash_col_outliers(\n",
    "    df: pd.DataFrame, \n",
    "    col_name: str, \n",
    "    min_quantile: float =0.01, \n",
    "    max_quantile:float =0.99\n",
    "): \n",
    "    q_lo = df[col_name].quantile(min_quantile)\n",
    "    q_hi  = df[col_name].quantile(max_quantile)\n",
    "    \n",
    "    df.loc[df[col_name] >= q_hi, col_name] = q_hi\n",
    "    df.loc[df[col_name] <= q_lo, col_name] = q_lo\n",
    "    return df\n",
    "\n",
    "df = pd.read_csv(\"data/prices-d.csv\", index_col=0)\n",
    "df.pop(\"Volume\")\n",
    "df[\"Range\"] = (df[\"High\"] - df[\"Low\"]) / df[\"Open\"]\n",
    "df.pop(\"Open\")\n",
    "df.pop(\"High\")\n",
    "df.pop(\"Low\")\n",
    "df['Change'] = df[\"Adj Close\"].pct_change()\n",
    "df = df. tail(-1) \n",
    "df.pop(\"Close\")\n",
    "df = pd.DataFrame(df.values, columns=['Adj Close', 'Range', 'Change'])\n",
    "df = squash_col_outliers(df, 'Change')\n",
    "df = squash_col_outliers(df, \"Range\", min_quantile=0.0, max_quantile=0.97)\n",
    "df = scale_col_values(df, 'Change')\n",
    "df = scale_col_values(df, 'Range')\n",
    "\n",
    "trend = extract_trend(df['Adj Close'], 100)\n",
    "df['Trend'] = trend.as_boolean(df['Adj Close'][0])\n",
    "df.pop(\"Adj Close\")\n",
    "df.head()"
   ]
  },
  {
   "cell_type": "code",
   "execution_count": null,
   "id": "ac4beb1d-46ba-408e-bdab-b16ae4df90e9",
   "metadata": {},
   "outputs": [],
   "source": [
    "# VI: Shaping the Data for LSTM Input"
   ]
  },
  {
   "cell_type": "code",
   "execution_count": 73,
   "id": "cce00098-c4d8-404a-8854-53dc8a434aab",
   "metadata": {
    "tags": []
   },
   "outputs": [
    {
     "data": {
      "text/html": [
       "<div>\n",
       "<style scoped>\n",
       "    .dataframe tbody tr th:only-of-type {\n",
       "        vertical-align: middle;\n",
       "    }\n",
       "\n",
       "    .dataframe tbody tr th {\n",
       "        vertical-align: top;\n",
       "    }\n",
       "\n",
       "    .dataframe thead th {\n",
       "        text-align: right;\n",
       "    }\n",
       "</style>\n",
       "<table border=\"1\" class=\"dataframe\">\n",
       "  <thead>\n",
       "    <tr style=\"text-align: right;\">\n",
       "      <th></th>\n",
       "      <th>f1</th>\n",
       "      <th>f2</th>\n",
       "    </tr>\n",
       "  </thead>\n",
       "  <tbody>\n",
       "    <tr>\n",
       "      <th>0</th>\n",
       "      <td>r0f1</td>\n",
       "      <td>r0f2</td>\n",
       "    </tr>\n",
       "    <tr>\n",
       "      <th>1</th>\n",
       "      <td>r1f1</td>\n",
       "      <td>r1f2</td>\n",
       "    </tr>\n",
       "    <tr>\n",
       "      <th>2</th>\n",
       "      <td>r2f1</td>\n",
       "      <td>r2f2</td>\n",
       "    </tr>\n",
       "    <tr>\n",
       "      <th>3</th>\n",
       "      <td>r3f1</td>\n",
       "      <td>r3f2</td>\n",
       "    </tr>\n",
       "    <tr>\n",
       "      <th>4</th>\n",
       "      <td>r4f1</td>\n",
       "      <td>r4f2</td>\n",
       "    </tr>\n",
       "    <tr>\n",
       "      <th>5</th>\n",
       "      <td>r5f1</td>\n",
       "      <td>r5f2</td>\n",
       "    </tr>\n",
       "    <tr>\n",
       "      <th>6</th>\n",
       "      <td>r6f1</td>\n",
       "      <td>r6f2</td>\n",
       "    </tr>\n",
       "    <tr>\n",
       "      <th>7</th>\n",
       "      <td>r7f1</td>\n",
       "      <td>r7f2</td>\n",
       "    </tr>\n",
       "    <tr>\n",
       "      <th>8</th>\n",
       "      <td>r8f1</td>\n",
       "      <td>r8f2</td>\n",
       "    </tr>\n",
       "  </tbody>\n",
       "</table>\n",
       "</div>"
      ],
      "text/plain": [
       "     f1    f2\n",
       "0  r0f1  r0f2\n",
       "1  r1f1  r1f2\n",
       "2  r2f1  r2f2\n",
       "3  r3f1  r3f2\n",
       "4  r4f1  r4f2\n",
       "5  r5f1  r5f2\n",
       "6  r6f1  r6f2\n",
       "7  r7f1  r7f2\n",
       "8  r8f1  r8f2"
      ]
     },
     "execution_count": 73,
     "metadata": {},
     "output_type": "execute_result"
    }
   ],
   "source": [
    "'''\n",
    "Finally, we have 3 columns (or features): Range, Change, and Trend. \n",
    "Let's pretend that Change is what we want the model to predict. \n",
    "\n",
    "The input for a keras LSTM requires a three dimensional array with the shape: \n",
    "(s, t, f) \n",
    "\n",
    "s = samples: the number of samples in the data set (i.e. the number of rows of data) \n",
    "t = timesteps: the number of timesteps to be input for each sample (also sometimes called the 'lag')\n",
    "f = features: the number of distinct features to be considered; in this case, 3 (Range, Change, Trend)\n",
    "\n",
    "An LSTM can predict multiple output features, and can do so with a variable offset and width. But just to \n",
    "keep things simple, we'll assume for this example that the output offset is 1, the LSTM will predict only \n",
    "one output feature (Change), and it will predict for only one timestep: the next day's Change. \n",
    "\n",
    "Note also that the output feature need not be one of the input features as well. In this case, Change is \n",
    "present in both the input and the output. \n",
    "\n",
    "X represents the input values. \n",
    "y represents the predicted or expected values. \n",
    "\n",
    "X: Range(t[-10:0]), Change(t[-10:0]), Trend(t[-10:0])\n",
    "y: Change (t+1)\n",
    "\n",
    "Steps:\n",
    "1. Extract the 'y' values, or the values to be predicted. This is supervised learning, so these are all \n",
    "the 'correct' answers for training. \n",
    "\n",
    "2. Window the appropriate number of timesteps for each input \n",
    "\n",
    "3. Add one example of each feature, to each window \n",
    "\n",
    "Because the LSTM keeps a memory of more recent inputs, data is fed into it in a forward walking window the size\n",
    "of a predetermined number of timesteps. Each discrete input contains multiple overlapping windows, and each \n",
    "window contains one example of each feature. It's easier to explain with an example: \n",
    "\n",
    "The raw input data has 10 rows of 2 features each: f1, f2. It looks like this: \n",
    "'''\n",
    "_df1 = pd.DataFrame()\n",
    "_df1['f1'] = ['r0f1', 'r1f1', 'r2f1', 'r3f1', 'r4f1', 'r5f1', 'r6f1', 'r7f1', 'r8f1'] \n",
    "_df1['f2'] = ['r0f2', 'r1f2', 'r2f2', 'r3f2', 'r4f2', 'r5f2', 'r6f2', 'r7f2', 'r8f2'] \n",
    "_df1.head(9)"
   ]
  },
  {
   "cell_type": "code",
   "execution_count": 74,
   "id": "26e6e1e1-7da3-4589-96a2-cbd151252c37",
   "metadata": {
    "tags": []
   },
   "outputs": [
    {
     "name": "stdout",
     "output_type": "stream",
     "text": [
      "X:[            y:[\n",
      "   [      d0]     \n",
      "   [   d0 d1]     \n",
      "   [d0 d1 d2]     d3\n",
      "   [d1 d2 d3]     d4\n",
      "   [d2 d3 d4]     d5\n",
      "   [d3 d4 d5]     d6\n",
      "   [d4 d5 d6]     d7\n",
      "   [d5 d6 d7]     d8\n",
      "   [d6 d7 d8]     \n",
      "]                ]\n"
     ]
    }
   ],
   "source": [
    "'''\n",
    "So the outermost dimension of the 3-dimensional input array will have 10 elements. Each of those elements \n",
    "will be an array, so let's create this to begin with: \n",
    "\n",
    "[ [] [] [] [] [] [] [] [] [] [] ]\n",
    "\n",
    "It's an array containing 10 empty arrays. \n",
    "\n",
    "How many timesteps? Let's say 3. So each of those empty arrays will have 3 arrays inside of them. Each of \n",
    "those innermost arrays will contain the 2 features. \n",
    "\n",
    "To simplify, first create an array of 3-element arrays, where each element of the inner array represents \n",
    "one row. Since this is daily data, we'll call row 0 d0, row 1 is d1, and so on. \n",
    "\n",
    "'''\n",
    "_x2 = [['  ', '  ', 'd0'],['  ', 'd0', 'd1'],['d0', 'd1', 'd2'],['d1', 'd2', 'd3'],['d2', 'd3', 'd4'],['d3', 'd4', 'd5'],['d4', 'd5', 'd6'],['d5', 'd6', 'd7'],['d6', 'd7', 'd8']]\n",
    "_y = ['', '', 'd3', 'd4', 'd5', 'd6', 'd7', 'd8', '']\n",
    "def printxy(X, y): \n",
    "    print('X:[            y:[')\n",
    "    for i in range(len(X)): \n",
    "        print(f'   [{X[i][0]} {X[i][1]} {X[i][2]}]     {y[i]}')\n",
    "    print(']                ]')\n",
    "printxy(_x2, _y)"
   ]
  },
  {
   "cell_type": "code",
   "execution_count": 75,
   "id": "acdb1378-4409-40ad-8766-5c21cc4fafaa",
   "metadata": {
    "tags": []
   },
   "outputs": [
    {
     "name": "stdout",
     "output_type": "stream",
     "text": [
      "X:[            y:[\n",
      "   [d0 d1 d2]     d3\n",
      "   [d1 d2 d3]     d4\n",
      "   [d2 d3 d4]     d5\n",
      "   [d3 d4 d5]     d6\n",
      "   [d4 d5 d6]     d7\n",
      "   [d5 d6 d7]     d8\n",
      "]                ]\n"
     ]
    }
   ],
   "source": [
    "'''\n",
    "There are missing values, because in the beginning two records, there is a lack of previous data for t-2, and t-1, \n",
    "and at the end it's impossible to make a prediction because we don't have the future y value; this is expected. \n",
    "If we remove those missing-data rows then we are left with: \n",
    "'''\n",
    "_x2 = _a2[2:-1]\n",
    "_y = _y[2:-1]\n",
    "printxy(_x2, _y)\n"
   ]
  },
  {
   "cell_type": "code",
   "execution_count": 76,
   "id": "8451dd64-9baf-44aa-845b-9fd7a140c351",
   "metadata": {
    "tags": []
   },
   "outputs": [],
   "source": [
    "# extract X with the given number of timesteps\n",
    "# df: the DataFrame\n",
    "# ntimesteps: number of timesteps\n",
    "#\n",
    "def extract_X(df: pd.DataFrame, ntimesteps: int): \n",
    "    features = len(df.columns)\n",
    "    X = list()\n",
    "    \n",
    "    #offset for timesteps\n",
    "    offsets = list()\n",
    "    for i in range (ntimesteps, 0, -1): \n",
    "        offsets.append(df.shift(i))\n",
    "        \n",
    "    #combine timestep columns into rows \n",
    "    combined = pd.concat(offsets, axis=1)\n",
    "    combined = combined.tail(-ntimesteps) \n",
    "    combined.drop(combined.tail(1).index, inplace=True)\n",
    "    \n",
    "    #reshape each row (timesteps, features)\n",
    "    for i in range(len(combined)): \n",
    "        row = combined.iloc[i].to_numpy()\n",
    "        xrow = list()\n",
    "        for n in range(ntimesteps): \n",
    "            xrow.append(row[n*features:(n*features)+features])\n",
    "        X.append(xrow)\n",
    "    \n",
    "    #return as numpy array\n",
    "    return np.array(X)"
   ]
  },
  {
   "cell_type": "code",
   "execution_count": 77,
   "id": "48ee65dc-2dad-408f-81da-2d299f750bf8",
   "metadata": {
    "tags": []
   },
   "outputs": [],
   "source": [
    "# extract y column (the col to be predicted)\n",
    "# df: the DataFrame\n",
    "# col_name: the name of the column to be predicted \n",
    "# ntimesteps: number of timesteps\n",
    "#\n",
    "def extract_y(df: pd.DataFrame, col_name: str, ntimesteps: int): \n",
    "    shifted = df.shift(-1)\n",
    "    shifted = shifted.head(-2)\n",
    "    shifted = shifted.tail(-(ntimesteps-1))\n",
    "    return shifted[col_name].values\n"
   ]
  },
  {
   "cell_type": "code",
   "execution_count": 78,
   "id": "2033ae36-b95a-43a4-9dbb-303802439781",
   "metadata": {
    "tags": []
   },
   "outputs": [
    {
     "name": "stdout",
     "output_type": "stream",
     "text": [
      "[[['r0f1' 'r0f2']\n",
      "  ['r1f1' 'r1f2']\n",
      "  ['r2f1' 'r2f2']]\n",
      "\n",
      " [['r1f1' 'r1f2']\n",
      "  ['r2f1' 'r2f2']\n",
      "  ['r3f1' 'r3f2']]\n",
      "\n",
      " [['r2f1' 'r2f2']\n",
      "  ['r3f1' 'r3f2']\n",
      "  ['r4f1' 'r4f2']]\n",
      "\n",
      " [['r3f1' 'r3f2']\n",
      "  ['r4f1' 'r4f2']\n",
      "  ['r5f1' 'r5f2']]\n",
      "\n",
      " [['r4f1' 'r4f2']\n",
      "  ['r5f1' 'r5f2']\n",
      "  ['r6f1' 'r6f2']]]\n"
     ]
    }
   ],
   "source": [
    "'''\n",
    "\n",
    "Replace each day (row) with an array containing the two features of that day (row). So d0 becomes \n",
    "the two-element array [r0f1, r0f2]. \n",
    "'''\n",
    "_y1 = extract_y(_df1, 'f2', 3)\n",
    "_x1 = extract_X(_df1, 3)\n",
    "print(_x1)"
   ]
  },
  {
   "cell_type": "code",
   "execution_count": 79,
   "id": "c0b98df4-8eee-4557-9234-589fc9f911fa",
   "metadata": {
    "tags": []
   },
   "outputs": [
    {
     "name": "stdout",
     "output_type": "stream",
     "text": [
      "X:[            y:[\n",
      "   [['r0f1' 'r0f2'] ['r1f1' 'r1f2'] ['r2f1' 'r2f2']]     r3f2\n",
      "   [['r1f1' 'r1f2'] ['r2f1' 'r2f2'] ['r3f1' 'r3f2']]     r4f2\n",
      "   [['r2f1' 'r2f2'] ['r3f1' 'r3f2'] ['r4f1' 'r4f2']]     r5f2\n",
      "   [['r3f1' 'r3f2'] ['r4f1' 'r4f2'] ['r5f1' 'r5f2']]     r6f2\n",
      "   [['r4f1' 'r4f2'] ['r5f1' 'r5f2'] ['r6f1' 'r6f2']]     r7f2\n",
      "]                ]\n"
     ]
    }
   ],
   "source": [
    "'''\n",
    "The row numbers are ordinal in each column going from top to bottom, and ordinal from left to right. \n",
    "That's the input format. Since the first two rows contain nulls, we'd remove them. So we end up with \n",
    "the number of rows being r = (r - (timesteps - 1))\n",
    "\n",
    "Now the y values are just a scalar array of feature 2 from each row, but shifted back 1. \n",
    "'''\n",
    "printxy(_x1, _y1)\n"
   ]
  },
  {
   "cell_type": "code",
   "execution_count": 80,
   "id": "eec2d8a1-89e5-4412-ac0e-f0dd4435edab",
   "metadata": {
    "tags": []
   },
   "outputs": [
    {
     "name": "stdout",
     "output_type": "stream",
     "text": [
      "(5, 3, 2)\n"
     ]
    }
   ],
   "source": [
    "\n",
    "'''\n",
    "Because the y values are shifted by one, we have to lose one more row from the training data - we don't \n",
    "have tomorrow's value, so we need to remove the last row this time. \n",
    "'''\n",
    "print(_x1.shape)"
   ]
  },
  {
   "cell_type": "code",
   "execution_count": 69,
   "id": "e0547708-0b15-4a82-93a1-a97180d29b04",
   "metadata": {
    "tags": []
   },
   "outputs": [],
   "source": [
    "class DataSet:\n",
    "    def __init__(self, X, y): \n",
    "        if X.ndim != 3: \n",
    "            raise Exception(\"Expected a 3-dimensional array for X\")\n",
    "        if y.ndim != 1: \n",
    "            raise Exception(\"Expected a 1-dimensional array for y\")\n",
    "        if len(X) != len(y): \n",
    "            raise Exception(\"Length of X and y must be the same\")\n",
    "        \n",
    "        self.X = X\n",
    "        self.y = y\n",
    "    \n",
    "    # pct% of the dataset will be split off and returned as a new DataSet\n",
    "    def split(self, pct:float): \n",
    "        count = int(self.size * pct)\n",
    "        new_dataset = DataSet(self.X[:count], self.y[:count])\n",
    "        self.X = self.X[:-count]\n",
    "        self.y = self.y[:-count]\n",
    "        return new_dataset\n",
    "        \n",
    "    @property\n",
    "    def size(self): \n",
    "        return len(self.X)\n"
   ]
  },
  {
   "cell_type": "code",
   "execution_count": 81,
   "id": "403ae9ba-a13f-49e4-8a8d-b41c284707b1",
   "metadata": {
    "tags": []
   },
   "outputs": [],
   "source": [
    "'''\n",
    "Finally we can take all of the scaled, processed, shaped data as a whole and split it into training, \n",
    "evaluation, and testing sets with an approximately 70-20-10 split: \n",
    "'''\n",
    "train = DataSet(X, y)\n",
    "val = train.split(0.3)\n",
    "test = val.split(0.3)"
   ]
  },
  {
   "cell_type": "code",
   "execution_count": 82,
   "id": "c2fcb914-5991-47ef-bca8-54f8b27411ca",
   "metadata": {
    "tags": []
   },
   "outputs": [
    {
     "name": "stdout",
     "output_type": "stream",
     "text": [
      "train set has 2240 samples\n",
      "eval set has 672 samples\n",
      "test set has 288 samples\n"
     ]
    }
   ],
   "source": [
    "print(f'train set has {train.size} samples')\n",
    "print(f'eval set has {val.size} samples')\n",
    "print(f'test set has {test.size} samples')"
   ]
  },
  {
   "cell_type": "code",
   "execution_count": 83,
   "id": "1912f874-4365-46cf-8dc7-c3582a78261d",
   "metadata": {
    "tags": []
   },
   "outputs": [
    {
     "name": "stdout",
     "output_type": "stream",
     "text": [
      "train X shape: (2240, 10, 3)\n",
      "eval X shape (672, 10, 3)\n",
      "test X shape: (288, 10, 3)\n"
     ]
    }
   ],
   "source": [
    "\n",
    "print('train X shape:', train.X.shape)\n",
    "print('eval X shape', val.X.shape)\n",
    "print('test X shape:', test.X.shape)\n"
   ]
  },
  {
   "cell_type": "code",
   "execution_count": null,
   "id": "ed3da25c-b966-4f11-9efe-acb32bae06d4",
   "metadata": {},
   "outputs": [],
   "source": [
    "'''\n",
    "And that's the input shape for a tensorflow LSTM. \n",
    "'''"
   ]
  }
 ],
 "metadata": {
  "kernelspec": {
   "display_name": "Python 3 (ipykernel)",
   "language": "python",
   "name": "python3"
  },
  "language_info": {
   "codemirror_mode": {
    "name": "ipython",
    "version": 3
   },
   "file_extension": ".py",
   "mimetype": "text/x-python",
   "name": "python",
   "nbconvert_exporter": "python",
   "pygments_lexer": "ipython3",
   "version": "3.8.10"
  }
 },
 "nbformat": 4,
 "nbformat_minor": 5
}
