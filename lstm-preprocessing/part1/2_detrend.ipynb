{
 "cells": [
  {
   "cell_type": "code",
   "execution_count": 13,
   "id": "f5b24b0d-9ca9-495d-a713-93c52133168c",
   "metadata": {
    "tags": []
   },
   "outputs": [],
   "source": [
    "import pandas as pd \n",
    "import numpy as np\n",
    "import keras\n",
    "import math \n",
    "import random \n",
    "\n",
    "from matplotlib import pyplot as plt\n",
    "from sklearn.preprocessing import MinMaxScaler\n",
    "from statsmodels.tsa.stattools import adfuller"
   ]
  },
  {
   "cell_type": "code",
   "execution_count": 14,
   "id": "6914148b-ae63-41aa-b681-a5a5ad5bba71",
   "metadata": {
    "tags": []
   },
   "outputs": [
    {
     "data": {
      "text/html": [
       "<div>\n",
       "<style scoped>\n",
       "    .dataframe tbody tr th:only-of-type {\n",
       "        vertical-align: middle;\n",
       "    }\n",
       "\n",
       "    .dataframe tbody tr th {\n",
       "        vertical-align: top;\n",
       "    }\n",
       "\n",
       "    .dataframe thead th {\n",
       "        text-align: right;\n",
       "    }\n",
       "</style>\n",
       "<table border=\"1\" class=\"dataframe\">\n",
       "  <thead>\n",
       "    <tr style=\"text-align: right;\">\n",
       "      <th></th>\n",
       "      <th>Adj Close</th>\n",
       "      <th>Range</th>\n",
       "    </tr>\n",
       "    <tr>\n",
       "      <th>Date</th>\n",
       "      <th></th>\n",
       "      <th></th>\n",
       "    </tr>\n",
       "  </thead>\n",
       "  <tbody>\n",
       "    <tr>\n",
       "      <th>2010-06-29</th>\n",
       "      <td>1.592667</td>\n",
       "      <td>0.392632</td>\n",
       "    </tr>\n",
       "    <tr>\n",
       "      <th>2010-06-30</th>\n",
       "      <td>1.588667</td>\n",
       "      <td>0.276076</td>\n",
       "    </tr>\n",
       "    <tr>\n",
       "      <th>2010-07-01</th>\n",
       "      <td>1.464000</td>\n",
       "      <td>0.226000</td>\n",
       "    </tr>\n",
       "    <tr>\n",
       "      <th>2010-07-02</th>\n",
       "      <td>1.280000</td>\n",
       "      <td>0.190870</td>\n",
       "    </tr>\n",
       "    <tr>\n",
       "      <th>2010-07-06</th>\n",
       "      <td>1.074000</td>\n",
       "      <td>0.208500</td>\n",
       "    </tr>\n",
       "  </tbody>\n",
       "</table>\n",
       "</div>"
      ],
      "text/plain": [
       "            Adj Close     Range\n",
       "Date                           \n",
       "2010-06-29   1.592667  0.392632\n",
       "2010-06-30   1.588667  0.276076\n",
       "2010-07-01   1.464000  0.226000\n",
       "2010-07-02   1.280000  0.190870\n",
       "2010-07-06   1.074000  0.208500"
      ]
     },
     "execution_count": 14,
     "metadata": {},
     "output_type": "execute_result"
    }
   ],
   "source": [
    "# PREPROCESSING\n",
    "df = pd.read_csv(\"data/prices-d.csv\", index_col=0)\n",
    "df.pop(\"Volume\")\n",
    "df.pop(\"Close\")\n",
    "df[\"Range\"] = (df[\"High\"] - df[\"Low\"]) / df[\"Open\"]\n",
    "df.pop(\"Open\")\n",
    "df.pop(\"High\")\n",
    "df.pop(\"Low\")\n",
    "df.head()"
   ]
  },
  {
   "cell_type": "code",
   "execution_count": 15,
   "id": "b6e852a0-6d9a-4ed9-bcf6-ee5bc7f31fa7",
   "metadata": {
    "tags": []
   },
   "outputs": [],
   "source": [
    "# II. Detrending Price (Capture Change)"
   ]
  },
  {
   "cell_type": "code",
   "execution_count": 16,
   "id": "84511c06-5dd2-48da-8414-8911297f4691",
   "metadata": {
    "tags": []
   },
   "outputs": [
    {
     "data": {
      "text/html": [
       "<div>\n",
       "<style scoped>\n",
       "    .dataframe tbody tr th:only-of-type {\n",
       "        vertical-align: middle;\n",
       "    }\n",
       "\n",
       "    .dataframe tbody tr th {\n",
       "        vertical-align: top;\n",
       "    }\n",
       "\n",
       "    .dataframe thead th {\n",
       "        text-align: right;\n",
       "    }\n",
       "</style>\n",
       "<table border=\"1\" class=\"dataframe\">\n",
       "  <thead>\n",
       "    <tr style=\"text-align: right;\">\n",
       "      <th></th>\n",
       "      <th>Adj Close</th>\n",
       "      <th>Range</th>\n",
       "      <th>Abs Change</th>\n",
       "    </tr>\n",
       "    <tr>\n",
       "      <th>Date</th>\n",
       "      <th></th>\n",
       "      <th></th>\n",
       "      <th></th>\n",
       "    </tr>\n",
       "  </thead>\n",
       "  <tbody>\n",
       "    <tr>\n",
       "      <th>2010-06-29</th>\n",
       "      <td>1.592667</td>\n",
       "      <td>0.392632</td>\n",
       "      <td>NaN</td>\n",
       "    </tr>\n",
       "    <tr>\n",
       "      <th>2010-06-30</th>\n",
       "      <td>1.588667</td>\n",
       "      <td>0.276076</td>\n",
       "      <td>-0.004000</td>\n",
       "    </tr>\n",
       "    <tr>\n",
       "      <th>2010-07-01</th>\n",
       "      <td>1.464000</td>\n",
       "      <td>0.226000</td>\n",
       "      <td>-0.124667</td>\n",
       "    </tr>\n",
       "    <tr>\n",
       "      <th>2010-07-02</th>\n",
       "      <td>1.280000</td>\n",
       "      <td>0.190870</td>\n",
       "      <td>-0.184000</td>\n",
       "    </tr>\n",
       "    <tr>\n",
       "      <th>2010-07-06</th>\n",
       "      <td>1.074000</td>\n",
       "      <td>0.208500</td>\n",
       "      <td>-0.206000</td>\n",
       "    </tr>\n",
       "  </tbody>\n",
       "</table>\n",
       "</div>"
      ],
      "text/plain": [
       "            Adj Close     Range  Abs Change\n",
       "Date                                       \n",
       "2010-06-29   1.592667  0.392632         NaN\n",
       "2010-06-30   1.588667  0.276076   -0.004000\n",
       "2010-07-01   1.464000  0.226000   -0.124667\n",
       "2010-07-02   1.280000  0.190870   -0.184000\n",
       "2010-07-06   1.074000  0.208500   -0.206000"
      ]
     },
     "execution_count": 16,
     "metadata": {},
     "output_type": "execute_result"
    }
   ],
   "source": [
    "'''\n",
    "II.A: Absolute Change \n",
    "\n",
    "A data series may have trend, and it may have seasonality. Multi-year stock price data is less likely to show \n",
    "seasonality, but very likely to show a strong persistent trend. The problem with trended data (especially \n",
    "financial asset data which tends to grow exponentially) is that it smashes early data into oblivion, making \n",
    "it nearly invisible to the model trying to generalize something from it. This is why absolute price is \n",
    "almost never fed into a model without being heavily processed.\n",
    "\n",
    "Now for the closing price ('Adj Close' column), again no one cares about the absolute price from day to day, \n",
    "what one cares about is the change in price from day to day. Pandas lets us acheive that with the following \n",
    "single line: \n",
    "'''\n",
    "df['Abs Change'] = df[\"Adj Close\"].diff()\n",
    "df.head()"
   ]
  },
  {
   "cell_type": "code",
   "execution_count": 17,
   "id": "421bc8b4-8e00-4c1e-af7c-539304e9544a",
   "metadata": {
    "tags": []
   },
   "outputs": [
    {
     "data": {
      "text/plain": [
       "<AxesSubplot:xlabel='Date'>"
      ]
     },
     "execution_count": 17,
     "metadata": {},
     "output_type": "execute_result"
    },
    {
     "data": {
      "image/png": "[encoded data removed]",
      "text/plain": [
       "<Figure size 640x480 with 1 Axes>"
      ]
     },
     "metadata": {},
     "output_type": "display_data"
    }
   ],
   "source": [
    "'''\n",
    "II.A.1: Problem with Absolute Change\n",
    "\n",
    "But the main problem is evident when we plot this over time. We can see that as the price rose over the years, the \n",
    "average daily change also increased, naturally. This is not ideal data to feed into a model, because \n",
    "(as you can see) earlier values will be de-emphasized to the point of nearly being ignored, whereas later \n",
    "data points will be overemphasized in relation. Since we would like the model to be able to glean meaningful \n",
    "data from the entire dataset, this is less than ideal. The plot below shows data that is likely to be \n",
    "difficult for a model to extract generalizations from. \n",
    "'''\n",
    "df['Abs Change'].plot()"
   ]
  },
  {
   "cell_type": "code",
   "execution_count": 18,
   "id": "9a52a807-b482-48ad-b4de-e53d0896173c",
   "metadata": {
    "tags": []
   },
   "outputs": [
    {
     "data": {
      "text/plain": [
       "<AxesSubplot:xlabel='Date'>"
      ]
     },
     "execution_count": 18,
     "metadata": {},
     "output_type": "execute_result"
    },
    {
     "data": {
      "image/png": "[encoded data removed]",
      "text/plain": [
       "<Figure size 640x480 with 1 Axes>"
      ]
     },
     "metadata": {},
     "output_type": "display_data"
    }
   ],
   "source": [
    "'''\n",
    "II.B: Percentage Change\n",
    "\n",
    "Instead, the percentage change is what we want. It's less likely to be skewed or trended, and we can see this visually\n",
    "by plotting. \n",
    "'''\n",
    "#first remove Abs Change, as we don't need it \n",
    "df.pop(\"Abs Change\")\n",
    "\n",
    "df['Change'] = df[\"Adj Close\"].pct_change()\n",
    "df['Change'].plot()"
   ]
  },
  {
   "cell_type": "code",
   "execution_count": 19,
   "id": "fe8471e2-8e4a-45ee-ad05-13ec84716d04",
   "metadata": {
    "tags": []
   },
   "outputs": [
    {
     "data": {
      "text/html": [
       "<div>\n",
       "<style scoped>\n",
       "    .dataframe tbody tr th:only-of-type {\n",
       "        vertical-align: middle;\n",
       "    }\n",
       "\n",
       "    .dataframe tbody tr th {\n",
       "        vertical-align: top;\n",
       "    }\n",
       "\n",
       "    .dataframe thead th {\n",
       "        text-align: right;\n",
       "    }\n",
       "</style>\n",
       "<table border=\"1\" class=\"dataframe\">\n",
       "  <thead>\n",
       "    <tr style=\"text-align: right;\">\n",
       "      <th></th>\n",
       "      <th>Adj Close</th>\n",
       "      <th>Range</th>\n",
       "      <th>Change</th>\n",
       "    </tr>\n",
       "    <tr>\n",
       "      <th>Date</th>\n",
       "      <th></th>\n",
       "      <th></th>\n",
       "      <th></th>\n",
       "    </tr>\n",
       "  </thead>\n",
       "  <tbody>\n",
       "    <tr>\n",
       "      <th>2010-06-29</th>\n",
       "      <td>1.592667</td>\n",
       "      <td>0.392632</td>\n",
       "      <td>NaN</td>\n",
       "    </tr>\n",
       "    <tr>\n",
       "      <th>2010-06-30</th>\n",
       "      <td>1.588667</td>\n",
       "      <td>0.276076</td>\n",
       "      <td>-0.002512</td>\n",
       "    </tr>\n",
       "    <tr>\n",
       "      <th>2010-07-01</th>\n",
       "      <td>1.464000</td>\n",
       "      <td>0.226000</td>\n",
       "      <td>-0.078473</td>\n",
       "    </tr>\n",
       "    <tr>\n",
       "      <th>2010-07-02</th>\n",
       "      <td>1.280000</td>\n",
       "      <td>0.190870</td>\n",
       "      <td>-0.125683</td>\n",
       "    </tr>\n",
       "    <tr>\n",
       "      <th>2010-07-06</th>\n",
       "      <td>1.074000</td>\n",
       "      <td>0.208500</td>\n",
       "      <td>-0.160937</td>\n",
       "    </tr>\n",
       "  </tbody>\n",
       "</table>\n",
       "</div>"
      ],
      "text/plain": [
       "            Adj Close     Range    Change\n",
       "Date                                     \n",
       "2010-06-29   1.592667  0.392632       NaN\n",
       "2010-06-30   1.588667  0.276076 -0.002512\n",
       "2010-07-01   1.464000  0.226000 -0.078473\n",
       "2010-07-02   1.280000  0.190870 -0.125683\n",
       "2010-07-06   1.074000  0.208500 -0.160937"
      ]
     },
     "execution_count": 19,
     "metadata": {},
     "output_type": "execute_result"
    }
   ],
   "source": [
    "'''\n",
    "II.B.1: NaN in first row \n",
    "\n",
    "Note that the very first value for the Pct Change column is a NaN. The reason is that to get this column, each \n",
    "value in the source column was compared to its previous timestep, and the first record has no previous to which \n",
    "to compare. \n",
    "'''\n",
    "df.head()"
   ]
  },
  {
   "cell_type": "code",
   "execution_count": 20,
   "id": "44e22fb6-0590-446b-b9b1-47a03cff5272",
   "metadata": {
    "tags": []
   },
   "outputs": [
    {
     "name": "stdout",
     "output_type": "stream",
     "text": [
      "len before: 3212\n",
      "len after: 3211\n"
     ]
    },
    {
     "data": {
      "text/html": [
       "<div>\n",
       "<style scoped>\n",
       "    .dataframe tbody tr th:only-of-type {\n",
       "        vertical-align: middle;\n",
       "    }\n",
       "\n",
       "    .dataframe tbody tr th {\n",
       "        vertical-align: top;\n",
       "    }\n",
       "\n",
       "    .dataframe thead th {\n",
       "        text-align: right;\n",
       "    }\n",
       "</style>\n",
       "<table border=\"1\" class=\"dataframe\">\n",
       "  <thead>\n",
       "    <tr style=\"text-align: right;\">\n",
       "      <th></th>\n",
       "      <th>Adj Close</th>\n",
       "      <th>Range</th>\n",
       "      <th>Change</th>\n",
       "    </tr>\n",
       "    <tr>\n",
       "      <th>Date</th>\n",
       "      <th></th>\n",
       "      <th></th>\n",
       "      <th></th>\n",
       "    </tr>\n",
       "  </thead>\n",
       "  <tbody>\n",
       "    <tr>\n",
       "      <th>2010-06-30</th>\n",
       "      <td>1.588667</td>\n",
       "      <td>0.276076</td>\n",
       "      <td>-0.002512</td>\n",
       "    </tr>\n",
       "    <tr>\n",
       "      <th>2010-07-01</th>\n",
       "      <td>1.464000</td>\n",
       "      <td>0.226000</td>\n",
       "      <td>-0.078473</td>\n",
       "    </tr>\n",
       "    <tr>\n",
       "      <th>2010-07-02</th>\n",
       "      <td>1.280000</td>\n",
       "      <td>0.190870</td>\n",
       "      <td>-0.125683</td>\n",
       "    </tr>\n",
       "    <tr>\n",
       "      <th>2010-07-06</th>\n",
       "      <td>1.074000</td>\n",
       "      <td>0.208500</td>\n",
       "      <td>-0.160937</td>\n",
       "    </tr>\n",
       "    <tr>\n",
       "      <th>2010-07-07</th>\n",
       "      <td>1.053333</td>\n",
       "      <td>0.100610</td>\n",
       "      <td>-0.019243</td>\n",
       "    </tr>\n",
       "  </tbody>\n",
       "</table>\n",
       "</div>"
      ],
      "text/plain": [
       "            Adj Close     Range    Change\n",
       "Date                                     \n",
       "2010-06-30   1.588667  0.276076 -0.002512\n",
       "2010-07-01   1.464000  0.226000 -0.078473\n",
       "2010-07-02   1.280000  0.190870 -0.125683\n",
       "2010-07-06   1.074000  0.208500 -0.160937\n",
       "2010-07-07   1.053333  0.100610 -0.019243"
      ]
     },
     "execution_count": 20,
     "metadata": {},
     "output_type": "execute_result"
    }
   ],
   "source": [
    "'''\n",
    "II.B.1.a: Remove the NaN\n",
    "\n",
    "The NaN can be removed reasonably by either basing the first change off of the Open \n",
    "(instead of the previous step's Close), or just by simply removing the first row. I'll just remove the first row. \n",
    "'''\n",
    "print('len before:', len(df))\n",
    "df = df. tail(-1) \n",
    "print('len after:', len(df))\n",
    "df.head()"
   ]
  },
  {
   "cell_type": "code",
   "execution_count": 21,
   "id": "30bfd999-b972-40ee-af2b-968d94ee2aff",
   "metadata": {
    "tags": []
   },
   "outputs": [
    {
     "name": "stdout",
     "output_type": "stream",
     "text": [
      "ADF Statistic: -56.772636\n",
      "p-value: 0.000000\n"
     ]
    }
   ],
   "source": [
    "\n",
    "adf = adfuller(df['Change'])\n",
    "\n",
    "print('ADF Statistic: %f' % adf[0])\n",
    "print('p-value: %f' % adf[1])"
   ]
  },
  {
   "cell_type": "code",
   "execution_count": null,
   "id": "573d3360-a9c3-4556-824a-00f04d3f8a9c",
   "metadata": {
    "tags": []
   },
   "outputs": [],
   "source": []
  },
  {
   "cell_type": "code",
   "execution_count": null,
   "id": "e2b180bc-6090-467e-b4b0-b1d8b3e0103d",
   "metadata": {
    "tags": []
   },
   "outputs": [],
   "source": []
  },
  {
   "cell_type": "code",
   "execution_count": null,
   "id": "1fb6e0b4-008d-4775-b859-f224f7d8cbb8",
   "metadata": {},
   "outputs": [],
   "source": []
  }
 ],
 "metadata": {
  "kernelspec": {
   "display_name": "Python 3 (ipykernel)",
   "language": "python",
   "name": "python3"
  },
  "language_info": {
   "codemirror_mode": {
    "name": "ipython",
    "version": 3
   },
   "file_extension": ".py",
   "mimetype": "text/x-python",
   "name": "python",
   "nbconvert_exporter": "python",
   "pygments_lexer": "ipython3",
   "version": "3.8.10"
  }
 },
 "nbformat": 4,
 "nbformat_minor": 5
}
