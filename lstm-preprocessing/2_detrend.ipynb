{
 "cells": [
  {
   "cell_type": "code",
   "execution_count": 37,
   "id": "f5b24b0d-9ca9-495d-a713-93c52133168c",
   "metadata": {
    "tags": []
   },
   "outputs": [],
   "source": [
    "import pandas as pd \n",
    "import numpy as np\n",
    "import keras\n",
    "import math \n",
    "import random \n",
    "\n",
    "from matplotlib import pyplot as plt\n",
    "from sklearn.preprocessing import MinMaxScaler"
   ]
  },
  {
   "cell_type": "code",
   "execution_count": 38,
   "id": "6914148b-ae63-41aa-b681-a5a5ad5bba71",
   "metadata": {
    "tags": []
   },
   "outputs": [
    {
     "data": {
      "text/plain": [
       "Date\n",
       "2010-06-29      1.169333\n",
       "2010-06-30      1.553333\n",
       "2010-07-01      1.351333\n",
       "2010-07-02      1.247333\n",
       "2010-07-06      1.055333\n",
       "                 ...    \n",
       "2023-03-27    189.940002\n",
       "2023-03-28    185.429993\n",
       "2023-03-29    189.440002\n",
       "2023-03-30    194.419998\n",
       "2023-03-31    197.199997\n",
       "Name: Low, Length: 3212, dtype: float64"
      ]
     },
     "execution_count": 38,
     "metadata": {},
     "output_type": "execute_result"
    }
   ],
   "source": [
    "df = pd.read_csv(\"TSLA-d.csv\", index_col=0)\n",
    "df.pop(\"Volume\")\n",
    "df[\"Range\"] = (df[\"High\"] - df[\"Low\"]) / df[\"Open\"]\n",
    "df.pop(\"Open\")\n",
    "df.pop(\"High\")\n",
    "df.pop(\"Low\")"
   ]
  },
  {
   "cell_type": "code",
   "execution_count": 39,
   "id": "b6e852a0-6d9a-4ed9-bcf6-ee5bc7f31fa7",
   "metadata": {
    "tags": []
   },
   "outputs": [
    {
     "data": {
      "text/html": [
       "<div>\n",
       "<style scoped>\n",
       "    .dataframe tbody tr th:only-of-type {\n",
       "        vertical-align: middle;\n",
       "    }\n",
       "\n",
       "    .dataframe tbody tr th {\n",
       "        vertical-align: top;\n",
       "    }\n",
       "\n",
       "    .dataframe thead th {\n",
       "        text-align: right;\n",
       "    }\n",
       "</style>\n",
       "<table border=\"1\" class=\"dataframe\">\n",
       "  <thead>\n",
       "    <tr style=\"text-align: right;\">\n",
       "      <th></th>\n",
       "      <th>Close</th>\n",
       "      <th>Adj Close</th>\n",
       "      <th>Range</th>\n",
       "    </tr>\n",
       "    <tr>\n",
       "      <th>Date</th>\n",
       "      <th></th>\n",
       "      <th></th>\n",
       "      <th></th>\n",
       "    </tr>\n",
       "  </thead>\n",
       "  <tbody>\n",
       "    <tr>\n",
       "      <th>2010-06-29</th>\n",
       "      <td>1.592667</td>\n",
       "      <td>1.592667</td>\n",
       "      <td>0.392632</td>\n",
       "    </tr>\n",
       "    <tr>\n",
       "      <th>2010-06-30</th>\n",
       "      <td>1.588667</td>\n",
       "      <td>1.588667</td>\n",
       "      <td>0.276076</td>\n",
       "    </tr>\n",
       "    <tr>\n",
       "      <th>2010-07-01</th>\n",
       "      <td>1.464000</td>\n",
       "      <td>1.464000</td>\n",
       "      <td>0.226000</td>\n",
       "    </tr>\n",
       "    <tr>\n",
       "      <th>2010-07-02</th>\n",
       "      <td>1.280000</td>\n",
       "      <td>1.280000</td>\n",
       "      <td>0.190870</td>\n",
       "    </tr>\n",
       "    <tr>\n",
       "      <th>2010-07-06</th>\n",
       "      <td>1.074000</td>\n",
       "      <td>1.074000</td>\n",
       "      <td>0.208500</td>\n",
       "    </tr>\n",
       "  </tbody>\n",
       "</table>\n",
       "</div>"
      ],
      "text/plain": [
       "               Close  Adj Close     Range\n",
       "Date                                     \n",
       "2010-06-29  1.592667   1.592667  0.392632\n",
       "2010-06-30  1.588667   1.588667  0.276076\n",
       "2010-07-01  1.464000   1.464000  0.226000\n",
       "2010-07-02  1.280000   1.280000  0.190870\n",
       "2010-07-06  1.074000   1.074000  0.208500"
      ]
     },
     "execution_count": 39,
     "metadata": {},
     "output_type": "execute_result"
    }
   ],
   "source": [
    "df.head()"
   ]
  },
  {
   "cell_type": "code",
   "execution_count": 40,
   "id": "84511c06-5dd2-48da-8414-8911297f4691",
   "metadata": {
    "tags": []
   },
   "outputs": [],
   "source": [
    "# CALCULATE ABSOLUTE DIFFERENCE \n",
    "'''\n",
    "Now for the closing price ('Adj Close' column), again noone cares about the absolute price from day to do, \n",
    "what one cares about is the change in price from day to day. We can get that with the following line: \n",
    "'''\n",
    "df['Abs Change'] = df[\"Adj Close\"].diff()"
   ]
  },
  {
   "cell_type": "code",
   "execution_count": 41,
   "id": "421bc8b4-8e00-4c1e-af7c-539304e9544a",
   "metadata": {
    "tags": []
   },
   "outputs": [
    {
     "data": {
      "text/plain": [
       "[<matplotlib.lines.Line2D at 0x7f11533e7bb0>]"
      ]
     },
     "execution_count": 41,
     "metadata": {},
     "output_type": "execute_result"
    },
    {
     "data": {
      "image/png": "[encoded data removed]",
      "text/plain": [
       "<Figure size 640x480 with 1 Axes>"
      ]
     },
     "metadata": {},
     "output_type": "display_data"
    }
   ],
   "source": [
    "# PLOT ABSOLUTE DIFFERENCE \n",
    "\n",
    "'''\n",
    "But the problem is evident when we plot this over time. We can see that as the price rose over the years, the \n",
    "average daily change also increased, naturally. This is not ideal data to feed into a model, because \n",
    "(as you can see) earlier values will be de-emphasized to the point of nearly being ignored, whereas later \n",
    "data points will be overemphasized in relation. Since we would like the model to be able to glean meaningful \n",
    "data from the entire dataset, this is less than ideal. \n",
    "'''\n",
    "plt.plot(df['Abs Change'])"
   ]
  },
  {
   "cell_type": "code",
   "execution_count": 42,
   "id": "9a52a807-b482-48ad-b4de-e53d0896173c",
   "metadata": {
    "tags": []
   },
   "outputs": [
    {
     "data": {
      "text/plain": [
       "[<matplotlib.lines.Line2D at 0x7f1151a11730>]"
      ]
     },
     "execution_count": 42,
     "metadata": {},
     "output_type": "execute_result"
    },
    {
     "data": {
      "image/png": "[encoded data removed]",
      "text/plain": [
       "<Figure size 640x480 with 1 Axes>"
      ]
     },
     "metadata": {},
     "output_type": "display_data"
    }
   ],
   "source": [
    "# CALCULATE PCT CHANGE\n",
    "'''\n",
    "Instead, the percentage change is what we want. It's less likely to have a trend, and we can see this visually\n",
    "by plotting. \n",
    "'''\n",
    "df['Change'] = df[\"Adj Close\"].pct_change()\n",
    "plt.plot(df['Change'])"
   ]
  },
  {
   "cell_type": "code",
   "execution_count": 43,
   "id": "fe8471e2-8e4a-45ee-ad05-13ec84716d04",
   "metadata": {
    "tags": []
   },
   "outputs": [
    {
     "data": {
      "text/html": [
       "<div>\n",
       "<style scoped>\n",
       "    .dataframe tbody tr th:only-of-type {\n",
       "        vertical-align: middle;\n",
       "    }\n",
       "\n",
       "    .dataframe tbody tr th {\n",
       "        vertical-align: top;\n",
       "    }\n",
       "\n",
       "    .dataframe thead th {\n",
       "        text-align: right;\n",
       "    }\n",
       "</style>\n",
       "<table border=\"1\" class=\"dataframe\">\n",
       "  <thead>\n",
       "    <tr style=\"text-align: right;\">\n",
       "      <th></th>\n",
       "      <th>Close</th>\n",
       "      <th>Adj Close</th>\n",
       "      <th>Range</th>\n",
       "      <th>Abs Change</th>\n",
       "      <th>Change</th>\n",
       "    </tr>\n",
       "    <tr>\n",
       "      <th>Date</th>\n",
       "      <th></th>\n",
       "      <th></th>\n",
       "      <th></th>\n",
       "      <th></th>\n",
       "      <th></th>\n",
       "    </tr>\n",
       "  </thead>\n",
       "  <tbody>\n",
       "    <tr>\n",
       "      <th>2010-06-29</th>\n",
       "      <td>1.592667</td>\n",
       "      <td>1.592667</td>\n",
       "      <td>0.392632</td>\n",
       "      <td>NaN</td>\n",
       "      <td>NaN</td>\n",
       "    </tr>\n",
       "    <tr>\n",
       "      <th>2010-06-30</th>\n",
       "      <td>1.588667</td>\n",
       "      <td>1.588667</td>\n",
       "      <td>0.276076</td>\n",
       "      <td>-0.004000</td>\n",
       "      <td>-0.002512</td>\n",
       "    </tr>\n",
       "    <tr>\n",
       "      <th>2010-07-01</th>\n",
       "      <td>1.464000</td>\n",
       "      <td>1.464000</td>\n",
       "      <td>0.226000</td>\n",
       "      <td>-0.124667</td>\n",
       "      <td>-0.078473</td>\n",
       "    </tr>\n",
       "    <tr>\n",
       "      <th>2010-07-02</th>\n",
       "      <td>1.280000</td>\n",
       "      <td>1.280000</td>\n",
       "      <td>0.190870</td>\n",
       "      <td>-0.184000</td>\n",
       "      <td>-0.125683</td>\n",
       "    </tr>\n",
       "    <tr>\n",
       "      <th>2010-07-06</th>\n",
       "      <td>1.074000</td>\n",
       "      <td>1.074000</td>\n",
       "      <td>0.208500</td>\n",
       "      <td>-0.206000</td>\n",
       "      <td>-0.160937</td>\n",
       "    </tr>\n",
       "  </tbody>\n",
       "</table>\n",
       "</div>"
      ],
      "text/plain": [
       "               Close  Adj Close     Range  Abs Change    Change\n",
       "Date                                                           \n",
       "2010-06-29  1.592667   1.592667  0.392632         NaN       NaN\n",
       "2010-06-30  1.588667   1.588667  0.276076   -0.004000 -0.002512\n",
       "2010-07-01  1.464000   1.464000  0.226000   -0.124667 -0.078473\n",
       "2010-07-02  1.280000   1.280000  0.190870   -0.184000 -0.125683\n",
       "2010-07-06  1.074000   1.074000  0.208500   -0.206000 -0.160937"
      ]
     },
     "execution_count": 43,
     "metadata": {},
     "output_type": "execute_result"
    }
   ],
   "source": [
    "# FIRST ROW HAS NAN \n",
    "'''\n",
    "Note that the very first value for the Pct Change column is a NaN. The reason is that to get this column, each \n",
    "value in the source column was compared to its previous timestep, and the first record has no previous to which \n",
    "to compare. We can fix this just by either removing \n",
    "'''\n",
    "df.head()"
   ]
  },
  {
   "cell_type": "code",
   "execution_count": 44,
   "id": "44e22fb6-0590-446b-b9b1-47a03cff5272",
   "metadata": {
    "tags": []
   },
   "outputs": [
    {
     "name": "stdout",
     "output_type": "stream",
     "text": [
      "len before: 3212\n",
      "len after: 3211\n"
     ]
    },
    {
     "data": {
      "text/html": [
       "<div>\n",
       "<style scoped>\n",
       "    .dataframe tbody tr th:only-of-type {\n",
       "        vertical-align: middle;\n",
       "    }\n",
       "\n",
       "    .dataframe tbody tr th {\n",
       "        vertical-align: top;\n",
       "    }\n",
       "\n",
       "    .dataframe thead th {\n",
       "        text-align: right;\n",
       "    }\n",
       "</style>\n",
       "<table border=\"1\" class=\"dataframe\">\n",
       "  <thead>\n",
       "    <tr style=\"text-align: right;\">\n",
       "      <th></th>\n",
       "      <th>Close</th>\n",
       "      <th>Adj Close</th>\n",
       "      <th>Range</th>\n",
       "      <th>Abs Change</th>\n",
       "      <th>Change</th>\n",
       "    </tr>\n",
       "    <tr>\n",
       "      <th>Date</th>\n",
       "      <th></th>\n",
       "      <th></th>\n",
       "      <th></th>\n",
       "      <th></th>\n",
       "      <th></th>\n",
       "    </tr>\n",
       "  </thead>\n",
       "  <tbody>\n",
       "    <tr>\n",
       "      <th>2010-06-30</th>\n",
       "      <td>1.588667</td>\n",
       "      <td>1.588667</td>\n",
       "      <td>0.276076</td>\n",
       "      <td>-0.004000</td>\n",
       "      <td>-0.002512</td>\n",
       "    </tr>\n",
       "    <tr>\n",
       "      <th>2010-07-01</th>\n",
       "      <td>1.464000</td>\n",
       "      <td>1.464000</td>\n",
       "      <td>0.226000</td>\n",
       "      <td>-0.124667</td>\n",
       "      <td>-0.078473</td>\n",
       "    </tr>\n",
       "    <tr>\n",
       "      <th>2010-07-02</th>\n",
       "      <td>1.280000</td>\n",
       "      <td>1.280000</td>\n",
       "      <td>0.190870</td>\n",
       "      <td>-0.184000</td>\n",
       "      <td>-0.125683</td>\n",
       "    </tr>\n",
       "    <tr>\n",
       "      <th>2010-07-06</th>\n",
       "      <td>1.074000</td>\n",
       "      <td>1.074000</td>\n",
       "      <td>0.208500</td>\n",
       "      <td>-0.206000</td>\n",
       "      <td>-0.160937</td>\n",
       "    </tr>\n",
       "    <tr>\n",
       "      <th>2010-07-07</th>\n",
       "      <td>1.053333</td>\n",
       "      <td>1.053333</td>\n",
       "      <td>0.100610</td>\n",
       "      <td>-0.020667</td>\n",
       "      <td>-0.019243</td>\n",
       "    </tr>\n",
       "  </tbody>\n",
       "</table>\n",
       "</div>"
      ],
      "text/plain": [
       "               Close  Adj Close     Range  Abs Change    Change\n",
       "Date                                                           \n",
       "2010-06-30  1.588667   1.588667  0.276076   -0.004000 -0.002512\n",
       "2010-07-01  1.464000   1.464000  0.226000   -0.124667 -0.078473\n",
       "2010-07-02  1.280000   1.280000  0.190870   -0.184000 -0.125683\n",
       "2010-07-06  1.074000   1.074000  0.208500   -0.206000 -0.160937\n",
       "2010-07-07  1.053333   1.053333  0.100610   -0.020667 -0.019243"
      ]
     },
     "execution_count": 44,
     "metadata": {},
     "output_type": "execute_result"
    }
   ],
   "source": [
    "# FIX NAN BY REMOVING FIRST ROW \n",
    "'''\n",
    "We can fix this just by either removing the entire first row, or by fixing the value itself (comparing it to\n",
    "the Open price should be reasonable and not cause any harm. \n",
    "'''\n",
    "# remove row\n",
    "print('len before:', len(df))\n",
    "df = df. tail(-1) \n",
    "print('len after:', len(df))\n",
    "df.head()"
   ]
  },
  {
   "cell_type": "code",
   "execution_count": null,
   "id": "30bfd999-b972-40ee-af2b-968d94ee2aff",
   "metadata": {
    "tags": []
   },
   "outputs": [],
   "source": []
  },
  {
   "cell_type": "code",
   "execution_count": 45,
   "id": "573d3360-a9c3-4556-824a-00f04d3f8a9c",
   "metadata": {
    "tags": []
   },
   "outputs": [
    {
     "data": {
      "text/plain": [
       "Date\n",
       "2010-06-30    -0.004000\n",
       "2010-07-01    -0.124667\n",
       "2010-07-02    -0.184000\n",
       "2010-07-06    -0.206000\n",
       "2010-07-07    -0.020667\n",
       "                ...    \n",
       "2023-03-27     1.399994\n",
       "2023-03-28    -2.619996\n",
       "2023-03-29     4.690003\n",
       "2023-03-30     1.399994\n",
       "2023-03-31    12.180008\n",
       "Name: Abs Change, Length: 3211, dtype: float64"
      ]
     },
     "execution_count": 45,
     "metadata": {},
     "output_type": "execute_result"
    }
   ],
   "source": [
    "# REMOVE UNNECESSARY COLUMNS\n",
    "df.pop(\"Close\")\n",
    "df.pop(\"Abs Change\")"
   ]
  },
  {
   "cell_type": "code",
   "execution_count": 46,
   "id": "e2b180bc-6090-467e-b4b0-b1d8b3e0103d",
   "metadata": {
    "tags": []
   },
   "outputs": [
    {
     "data": {
      "text/html": [
       "<div>\n",
       "<style scoped>\n",
       "    .dataframe tbody tr th:only-of-type {\n",
       "        vertical-align: middle;\n",
       "    }\n",
       "\n",
       "    .dataframe tbody tr th {\n",
       "        vertical-align: top;\n",
       "    }\n",
       "\n",
       "    .dataframe thead th {\n",
       "        text-align: right;\n",
       "    }\n",
       "</style>\n",
       "<table border=\"1\" class=\"dataframe\">\n",
       "  <thead>\n",
       "    <tr style=\"text-align: right;\">\n",
       "      <th></th>\n",
       "      <th>Adj Close</th>\n",
       "      <th>Range</th>\n",
       "      <th>Change</th>\n",
       "    </tr>\n",
       "    <tr>\n",
       "      <th>Date</th>\n",
       "      <th></th>\n",
       "      <th></th>\n",
       "      <th></th>\n",
       "    </tr>\n",
       "  </thead>\n",
       "  <tbody>\n",
       "    <tr>\n",
       "      <th>2010-06-30</th>\n",
       "      <td>1.588667</td>\n",
       "      <td>0.276076</td>\n",
       "      <td>-0.002512</td>\n",
       "    </tr>\n",
       "    <tr>\n",
       "      <th>2010-07-01</th>\n",
       "      <td>1.464000</td>\n",
       "      <td>0.226000</td>\n",
       "      <td>-0.078473</td>\n",
       "    </tr>\n",
       "    <tr>\n",
       "      <th>2010-07-02</th>\n",
       "      <td>1.280000</td>\n",
       "      <td>0.190870</td>\n",
       "      <td>-0.125683</td>\n",
       "    </tr>\n",
       "    <tr>\n",
       "      <th>2010-07-06</th>\n",
       "      <td>1.074000</td>\n",
       "      <td>0.208500</td>\n",
       "      <td>-0.160937</td>\n",
       "    </tr>\n",
       "    <tr>\n",
       "      <th>2010-07-07</th>\n",
       "      <td>1.053333</td>\n",
       "      <td>0.100610</td>\n",
       "      <td>-0.019243</td>\n",
       "    </tr>\n",
       "  </tbody>\n",
       "</table>\n",
       "</div>"
      ],
      "text/plain": [
       "            Adj Close     Range    Change\n",
       "Date                                     \n",
       "2010-06-30   1.588667  0.276076 -0.002512\n",
       "2010-07-01   1.464000  0.226000 -0.078473\n",
       "2010-07-02   1.280000  0.190870 -0.125683\n",
       "2010-07-06   1.074000  0.208500 -0.160937\n",
       "2010-07-07   1.053333  0.100610 -0.019243"
      ]
     },
     "execution_count": 46,
     "metadata": {},
     "output_type": "execute_result"
    }
   ],
   "source": [
    "df.head()"
   ]
  },
  {
   "cell_type": "code",
   "execution_count": null,
   "id": "1fb6e0b4-008d-4775-b859-f224f7d8cbb8",
   "metadata": {},
   "outputs": [],
   "source": []
  }
 ],
 "metadata": {
  "kernelspec": {
   "display_name": "Python 3 (ipykernel)",
   "language": "python",
   "name": "python3"
  },
  "language_info": {
   "codemirror_mode": {
    "name": "ipython",
    "version": 3
   },
   "file_extension": ".py",
   "mimetype": "text/x-python",
   "name": "python",
   "nbconvert_exporter": "python",
   "pygments_lexer": "ipython3",
   "version": "3.8.10"
  }
 },
 "nbformat": 4,
 "nbformat_minor": 5
}
